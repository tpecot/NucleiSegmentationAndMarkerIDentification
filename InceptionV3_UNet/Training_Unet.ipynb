{
 "cells": [
  {
   "cell_type": "markdown",
   "metadata": {},
   "source": [
    "## Training U-Net\n",
    "\n",
    "The first step is to load the modules we need."
   ]
  },
  {
   "cell_type": "code",
   "execution_count": 1,
   "metadata": {},
   "outputs": [
    {
     "name": "stderr",
     "output_type": "stream",
     "text": [
      "Using TensorFlow backend.\n"
     ]
    }
   ],
   "source": [
    "import tensorflow as tf\n",
    "from tensorflow import keras\n",
    "from keras.optimizers import SGD, RMSprop\n",
    "\n",
    "from utils import rate_scheduler, train_model_sample, train_model_sample_unet, train_model_sample_lnet\n",
    "from models import unet as unet\n",
    "\n",
    "import os\n",
    "import datetime\n",
    "import numpy as np"
   ]
  },
  {
   "cell_type": "markdown",
   "metadata": {},
   "source": [
    "We define the training and validation datasets we want to use to train the classifier."
   ]
  },
  {
   "cell_type": "code",
   "execution_count": 2,
   "metadata": {},
   "outputs": [],
   "source": [
    "dataset00= \"nuclei_CFtraining_Unet\"\n",
    "dataset01= \"nuclei_WFtraining_Unet\"\n",
    "dataset02= \"nuclei_CFWFtraining_Unet\"\n",
    "\n",
    "dataset10= \"nuclei_CFvalidation_Unet\"\n",
    "dataset11= \"nuclei_WFvalidation_Unet\"\n",
    "dataset12= \"nuclei_CFWFvalidation_Unet\"\n",
    "\n",
    "direc_save = \"./trainedClassifiers/nucleiSegmentation/\"\n",
    "direc_data = \"./trainingDataNpz/nucleiSegmentation/\""
   ]
  },
  {
   "cell_type": "markdown",
   "metadata": {},
   "source": [
    "We define the global parameters used for training the classifier: <br>\n",
    "    1) the image dimensions (imaging_field_x and imaging_field_y) <br>\n",
    "    2) the number of classes <br>\n",
    "    3) the number of images trained at once (batch_size) <br>\n",
    "    4) the number of epochs <br> <br>\n",
    "We also set up the optimizer that will be used for training."
   ]
  },
  {
   "cell_type": "code",
   "execution_count": 3,
   "metadata": {},
   "outputs": [],
   "source": [
    "# parameters\n",
    "imaging_field_x = 256\n",
    "imaging_field_y = 256\n",
    "nb_classes = 3\n",
    "batch_size = 1\n",
    "nb_epochs = 100\n",
    "\n",
    "# optimizer\n",
    "optimizer = RMSprop(lr=1e-3)\n",
    "lr_sched = rate_scheduler(lr = 1e-3, decay = 0.99)"
   ]
  },
  {
   "cell_type": "markdown",
   "metadata": {},
   "source": [
    "We define the model and train it."
   ]
  },
  {
   "cell_type": "code",
   "execution_count": null,
   "metadata": {},
   "outputs": [],
   "source": [
    "# Confocal\n",
    "model = unet(nb_classes, imaging_field_x, imaging_field_y)\n",
    "\n",
    "expt = \"Unet\"\n",
    "train_model_sample_unet(model = model, dataset_training = dataset00, dataset_validation = dataset10,\n",
    "\toptimizer = optimizer, expt = expt, batch_size = batch_size, n_epoch = nb_epochs,\n",
    "\timaging_field_x = imaging_field_x, imaging_field_y = imaging_field_y,\n",
    "\tdirec_save = direc_save, \n",
    "\tdirec_data = direc_data, \n",
    "\tlr_sched = lr_sched)\n",
    "\n",
    "del model\n",
    "\n",
    "# Wide-field\n",
    "model = unet(nb_classes, imaging_field_x, imaging_field_y)\n",
    "\n",
    "expt = \"Unet\"\n",
    "train_model_sample_unet(model = model, dataset_training = dataset01, dataset_validation = dataset11,\n",
    "\toptimizer = optimizer, expt = expt, batch_size = batch_size, n_epoch = nb_epochs,\n",
    "\timaging_field_x = imaging_field_x, imaging_field_y = imaging_field_y,\n",
    "\tdirec_save = direc_save, \n",
    "\tdirec_data = direc_data, \n",
    "\tlr_sched = lr_sched)\n",
    "\n",
    "del model\n",
    "\n",
    "# Confocal & Wide-field\n",
    "model = unet(nb_classes, imaging_field_x, imaging_field_y)\n",
    "\n",
    "expt = \"Unet\"\n",
    "train_model_sample_unet(model = model, dataset_training = dataset02, dataset_validation = dataset12,\n",
    "\toptimizer = optimizer, expt = expt, batch_size = batch_size, n_epoch = nb_epochs,\n",
    "\timaging_field_x = imaging_field_x, imaging_field_y = imaging_field_y,\n",
    "\tdirec_save = direc_save, \n",
    "\tdirec_data = direc_data, \n",
    "\tlr_sched = lr_sched)\n",
    "\n",
    "del model"
   ]
  }
 ],
 "metadata": {
  "kernelspec": {
   "display_name": "Python (DLenv)",
   "language": "python",
   "name": "dlenv"
  },
  "language_info": {
   "codemirror_mode": {
    "name": "ipython",
    "version": 3
   },
   "file_extension": ".py",
   "mimetype": "text/x-python",
   "name": "python",
   "nbconvert_exporter": "python",
   "pygments_lexer": "ipython3",
   "version": "3.6.7"
  }
 },
 "nbformat": 4,
 "nbformat_minor": 1
}
