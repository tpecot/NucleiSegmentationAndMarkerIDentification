{
 "cells": [
  {
   "cell_type": "markdown",
   "metadata": {},
   "source": [
    "## Training\n",
    "\n",
    "The first step is to load the modules we need."
   ]
  },
  {
   "cell_type": "code",
   "execution_count": 2,
   "metadata": {},
   "outputs": [],
   "source": [
    "import tensorflow\n",
    "\n",
    "import sys\n",
    "sys.path.append(\"Mask_RCNN-2.1\")\n",
    "import json\n",
    "import os\n",
    "import os.path\n",
    "import numpy\n",
    "import mrcnn_model\n",
    "import visualize\n",
    "import mrcnn_utils\n",
    "sys.path.append(\"biomagdsb\")\n",
    "import mask_rcnn_additional\n",
    "import random\n",
    "import additional_train"
   ]
  },
  {
   "cell_type": "markdown",
   "metadata": {},
   "source": [
    "We define the global parameters used for training the classifier: <br>\n",
    "    1) the path to the training dataset <br>\n",
    "    2) the path to the evaluation data set <br>\n",
    "    3) the pretrained classifier to be used <br>\n",
    "    4) the name for the classifier to be trained <br>\n",
    "    5) the number of epochs for each part of the architecture to be trained as well as the learning rate (heads: only the last layers; all: all the architecture) <br>\n",
    "    6) a small list of parameters to be used <br> <br>"
   ]
  },
  {
   "cell_type": "code",
   "execution_count": null,
   "metadata": {},
   "outputs": [],
   "source": [
    "# parameters\n",
    "train_dir = \"./datasets/nucleiSegmentation_E2Fs/training/\"\n",
    "eval_dir = \"./datasets/nucleiSegmentation_E2Fs/validation/\"\n",
    "input_model = \"./pretrainedClassifiers/mask_rcnn_coco.h5\"\n",
    "output_model = \"./trainedClassifiers/nucleiSegmentation_E2Fs/mask_rcnn_DA100_E31_nms45_rpnnms65_512.h5\"\n",
    "\n",
    "epoch_groups = [{\"layers\":\"heads\",\"epochs\":\"1\",\"learning_rate\":\"0.001\"},\n",
    "               {\"layers\":\"all\",\"epochs\":\"3\",\"learning_rate\":\"0.0005\"}]\n",
    "\n",
    "blank_mrcnn = True\n",
    "step_ratio = 1.0\n",
    "show_inputs = False\n",
    "train_to_val_seed = 0\n",
    "train_to_val_ratio = 0.0\n",
    "use_eval_in_val = True\n",
    "detection_nms_threshold = 0.45\n",
    "rpn_nms_threshold = 0.65\n",
    "random_augmentation_level = 100\n",
    "image_size = 512\n",
    "\n",
    "trainer = additional_train.MaskTrain(train_dir,eval_dir,input_model,output_model,epoch_groups,blank_mrcnn,step_ratio,\n",
    "                    show_inputs,random_augmentation_level,train_to_val_seed,train_to_val_ratio,\n",
    "                    use_eval_in_val,detection_nms_threshold,rpn_nms_threshold,image_size)\n",
    "trainer.Train()"
   ]
  }
 ],
 "metadata": {
  "kernelspec": {
   "display_name": "Python 3",
   "language": "python",
   "name": "python3"
  },
  "language_info": {
   "codemirror_mode": {
    "name": "ipython",
    "version": 3
   },
   "file_extension": ".py",
   "mimetype": "text/x-python",
   "name": "python",
   "nbconvert_exporter": "python",
   "pygments_lexer": "ipython3",
   "version": "3.6.7"
  }
 },
 "nbformat": 4,
 "nbformat_minor": 1
}
