{
 "cells": [
  {
   "cell_type": "markdown",
   "metadata": {},
   "source": [
    "## Loading\n",
    "\n",
    "The first step is to load the libraries and functions we need."
   ]
  },
  {
   "cell_type": "code",
   "execution_count": null,
   "metadata": {},
   "outputs": [],
   "source": [
    "from utils import running_parameters_interface, running"
   ]
  },
  {
   "cell_type": "markdown",
   "metadata": {},
   "source": [
    "## Setting parameters\n",
    "\n",
    "The second step is to define the parameters required to run a model."
   ]
  },
  {
   "cell_type": "code",
   "execution_count": null,
   "metadata": {},
   "outputs": [],
   "source": [
    "nb_runnings = 1\n",
    "\n",
    "parameters = running_parameters_interface(nb_runnings)"
   ]
  },
  {
   "cell_type": "markdown",
   "metadata": {},
   "source": [
    "## Running Mask R-CNN\n",
    "\n",
    "Now, images can be segmented."
   ]
  },
  {
   "cell_type": "code",
   "execution_count": 3,
   "metadata": {
    "scrolled": false
   },
   "outputs": [
    {
     "name": "stdout",
     "output_type": "stream",
     "text": [
      "Image: 1 / 6 ( E2F3A_E2F8_mouse1_image4.tif )\n",
      "WARNING:tensorflow:From c:\\work\\jupyter\\updatenucleisegmentationandmarkeridentification\\dlenv\\lib\\site-packages\\keras\\backend\\tensorflow_backend.py:95: The name tf.reset_default_graph is deprecated. Please use tf.compat.v1.reset_default_graph instead.\n",
      "\n",
      "WARNING:tensorflow:From c:\\work\\jupyter\\updatenucleisegmentationandmarkeridentification\\dlenv\\lib\\site-packages\\keras\\backend\\tensorflow_backend.py:98: The name tf.placeholder_with_default is deprecated. Please use tf.compat.v1.placeholder_with_default instead.\n",
      "\n",
      "WARNING:tensorflow:From c:\\work\\jupyter\\updatenucleisegmentationandmarkeridentification\\dlenv\\lib\\site-packages\\keras\\backend\\tensorflow_backend.py:102: The name tf.get_default_graph is deprecated. Please use tf.compat.v1.get_default_graph instead.\n",
      "\n",
      "Max dim changed ( 640 ), rebuilding model\n",
      "WARNING:tensorflow:From c:\\work\\jupyter\\updatenucleisegmentationandmarkeridentification\\dlenv\\lib\\site-packages\\keras\\backend\\tensorflow_backend.py:517: The name tf.placeholder is deprecated. Please use tf.compat.v1.placeholder instead.\n",
      "\n",
      "WARNING:tensorflow:From c:\\work\\jupyter\\updatenucleisegmentationandmarkeridentification\\dlenv\\lib\\site-packages\\keras\\backend\\tensorflow_backend.py:4138: The name tf.random_uniform is deprecated. Please use tf.random.uniform instead.\n",
      "\n",
      "WARNING:tensorflow:From c:\\work\\jupyter\\updatenucleisegmentationandmarkeridentification\\dlenv\\lib\\site-packages\\keras\\backend\\tensorflow_backend.py:1919: The name tf.nn.fused_batch_norm is deprecated. Please use tf.compat.v1.nn.fused_batch_norm instead.\n",
      "\n",
      "WARNING:tensorflow:From c:\\work\\jupyter\\updatenucleisegmentationandmarkeridentification\\dlenv\\lib\\site-packages\\keras\\backend\\tensorflow_backend.py:3976: The name tf.nn.max_pool is deprecated. Please use tf.nn.max_pool2d instead.\n",
      "\n",
      "WARNING:tensorflow:From c:\\work\\jupyter\\updatenucleisegmentationandmarkeridentification\\dlenv\\lib\\site-packages\\keras\\backend\\tensorflow_backend.py:2018: The name tf.image.resize_nearest_neighbor is deprecated. Please use tf.compat.v1.image.resize_nearest_neighbor instead.\n",
      "\n",
      "WARNING:tensorflow:From Mask_RCNN-2.1\\mrcnn_model.py:320: The name tf.log is deprecated. Please use tf.math.log instead.\n",
      "\n",
      "WARNING:tensorflow:From Mask_RCNN-2.1\\mrcnn_model.py:374: where (from tensorflow.python.ops.array_ops) is deprecated and will be removed in a future version.\n",
      "Instructions for updating:\n",
      "Use tf.where in 2.0, which has the same broadcast rule as np.where\n",
      "WARNING:tensorflow:From Mask_RCNN-2.1\\mrcnn_model.py:398: calling crop_and_resize_v1 (from tensorflow.python.ops.image_ops_impl) with box_ind is deprecated and will be removed in a future version.\n",
      "Instructions for updating:\n",
      "box_ind is deprecated, use box_indices instead\n",
      "WARNING:tensorflow:From Mask_RCNN-2.1\\mrcnn_model.py:703: The name tf.rint is deprecated. Please use tf.math.rint instead.\n",
      "\n",
      "WARNING:tensorflow:From Mask_RCNN-2.1\\mrcnn_model.py:703: to_int32 (from tensorflow.python.ops.math_ops) is deprecated and will be removed in a future version.\n",
      "Instructions for updating:\n",
      "Use `tf.cast` instead.\n",
      "WARNING:tensorflow:From Mask_RCNN-2.1\\mrcnn_model.py:712: The name tf.sets.set_intersection is deprecated. Please use tf.sets.intersection instead.\n",
      "\n",
      "WARNING:tensorflow:From Mask_RCNN-2.1\\mrcnn_model.py:714: The name tf.sparse_tensor_to_dense is deprecated. Please use tf.sparse.to_dense instead.\n",
      "\n",
      "WARNING:tensorflow:From Mask_RCNN-2.1\\mrcnn_model.py:729: to_float (from tensorflow.python.ops.math_ops) is deprecated and will be removed in a future version.\n",
      "Instructions for updating:\n",
      "Use `tf.cast` instead.\n",
      "WARNING:tensorflow:From c:\\work\\jupyter\\updatenucleisegmentationandmarkeridentification\\dlenv\\lib\\site-packages\\keras\\backend\\tensorflow_backend.py:174: The name tf.get_default_session is deprecated. Please use tf.compat.v1.get_default_session instead.\n",
      "\n",
      "WARNING:tensorflow:From c:\\work\\jupyter\\updatenucleisegmentationandmarkeridentification\\dlenv\\lib\\site-packages\\keras\\backend\\tensorflow_backend.py:181: The name tf.ConfigProto is deprecated. Please use tf.compat.v1.ConfigProto instead.\n",
      "\n",
      "WARNING:tensorflow:From c:\\work\\jupyter\\updatenucleisegmentationandmarkeridentification\\dlenv\\lib\\site-packages\\keras\\backend\\tensorflow_backend.py:186: The name tf.Session is deprecated. Please use tf.compat.v1.Session instead.\n",
      "\n",
      "WARNING:tensorflow:From c:\\work\\jupyter\\updatenucleisegmentationandmarkeridentification\\dlenv\\lib\\site-packages\\keras\\backend\\tensorflow_backend.py:190: The name tf.global_variables is deprecated. Please use tf.compat.v1.global_variables instead.\n",
      "\n",
      "WARNING:tensorflow:From c:\\work\\jupyter\\updatenucleisegmentationandmarkeridentification\\dlenv\\lib\\site-packages\\keras\\backend\\tensorflow_backend.py:199: The name tf.is_variable_initialized is deprecated. Please use tf.compat.v1.is_variable_initialized instead.\n",
      "\n",
      "WARNING:tensorflow:From c:\\work\\jupyter\\updatenucleisegmentationandmarkeridentification\\dlenv\\lib\\site-packages\\keras\\backend\\tensorflow_backend.py:206: The name tf.variables_initializer is deprecated. Please use tf.compat.v1.variables_initializer instead.\n",
      "\n"
     ]
    },
    {
     "name": "stderr",
     "output_type": "stream",
     "text": [
      "C:\\Work\\Jupyter\\updateNucleiSegmentationAndMarkerIdentification\\MaskRCNN\\additional_segmentation.py:236: UserWarning: C:\\Work\\Jupyter\\updateNucleiSegmentationAndMarkerIdentification\\MaskRCNN\\datasets\\E2Fs\\results\\E2F3A_E2F8_mouse1_image4.tiff is a low contrast image\n",
      "  skimage.io.imsave(os.path.join(outputDir, baseName + \".tiff\"), mask_allScales_allImageParts)\n"
     ]
    },
    {
     "name": "stdout",
     "output_type": "stream",
     "text": [
      "Image: 2 / 6 ( E2F3A_E2F8_mouse2_image3.tif )\n"
     ]
    },
    {
     "name": "stderr",
     "output_type": "stream",
     "text": [
      "C:\\Work\\Jupyter\\updateNucleiSegmentationAndMarkerIdentification\\MaskRCNN\\additional_segmentation.py:236: UserWarning: C:\\Work\\Jupyter\\updateNucleiSegmentationAndMarkerIdentification\\MaskRCNN\\datasets\\E2Fs\\results\\E2F3A_E2F8_mouse2_image3.tiff is a low contrast image\n",
      "  skimage.io.imsave(os.path.join(outputDir, baseName + \".tiff\"), mask_allScales_allImageParts)\n"
     ]
    },
    {
     "name": "stdout",
     "output_type": "stream",
     "text": [
      "Image: 3 / 6 ( E2F3A_EdU_mouse1_image3.tif )\n"
     ]
    },
    {
     "name": "stderr",
     "output_type": "stream",
     "text": [
      "C:\\Work\\Jupyter\\updateNucleiSegmentationAndMarkerIdentification\\MaskRCNN\\additional_segmentation.py:236: UserWarning: C:\\Work\\Jupyter\\updateNucleiSegmentationAndMarkerIdentification\\MaskRCNN\\datasets\\E2Fs\\results\\E2F3A_EdU_mouse1_image3.tiff is a low contrast image\n",
      "  skimage.io.imsave(os.path.join(outputDir, baseName + \".tiff\"), mask_allScales_allImageParts)\n"
     ]
    },
    {
     "name": "stdout",
     "output_type": "stream",
     "text": [
      "Image: 4 / 6 ( E2F3A_EdU_mouse3_image3.tif )\n"
     ]
    },
    {
     "name": "stderr",
     "output_type": "stream",
     "text": [
      "C:\\Work\\Jupyter\\updateNucleiSegmentationAndMarkerIdentification\\MaskRCNN\\additional_segmentation.py:236: UserWarning: C:\\Work\\Jupyter\\updateNucleiSegmentationAndMarkerIdentification\\MaskRCNN\\datasets\\E2Fs\\results\\E2F3A_EdU_mouse3_image3.tiff is a low contrast image\n",
      "  skimage.io.imsave(os.path.join(outputDir, baseName + \".tiff\"), mask_allScales_allImageParts)\n"
     ]
    },
    {
     "name": "stdout",
     "output_type": "stream",
     "text": [
      "Image: 5 / 6 ( E2F4_EdU_mouse2_image3.tif )\n"
     ]
    },
    {
     "name": "stderr",
     "output_type": "stream",
     "text": [
      "C:\\Work\\Jupyter\\updateNucleiSegmentationAndMarkerIdentification\\MaskRCNN\\additional_segmentation.py:236: UserWarning: C:\\Work\\Jupyter\\updateNucleiSegmentationAndMarkerIdentification\\MaskRCNN\\datasets\\E2Fs\\results\\E2F4_EdU_mouse2_image3.tiff is a low contrast image\n",
      "  skimage.io.imsave(os.path.join(outputDir, baseName + \".tiff\"), mask_allScales_allImageParts)\n"
     ]
    },
    {
     "name": "stdout",
     "output_type": "stream",
     "text": [
      "Image: 6 / 6 ( E2F8_pH3_mouse1_image1.tif )\n"
     ]
    },
    {
     "name": "stderr",
     "output_type": "stream",
     "text": [
      "C:\\Work\\Jupyter\\updateNucleiSegmentationAndMarkerIdentification\\MaskRCNN\\additional_segmentation.py:236: UserWarning: C:\\Work\\Jupyter\\updateNucleiSegmentationAndMarkerIdentification\\MaskRCNN\\datasets\\E2Fs\\results\\E2F8_pH3_mouse1_image1.tiff is a low contrast image\n",
      "  skimage.io.imsave(os.path.join(outputDir, baseName + \".tiff\"), mask_allScales_allImageParts)\n"
     ]
    }
   ],
   "source": [
    "running(nb_runnings, parameters)"
   ]
  },
  {
   "cell_type": "code",
   "execution_count": null,
   "metadata": {},
   "outputs": [],
   "source": [
    "running(nb_runnings, parameters)"
   ]
  },
  {
   "cell_type": "code",
   "execution_count": null,
   "metadata": {},
   "outputs": [],
   "source": []
  }
 ],
 "metadata": {
  "kernelspec": {
   "display_name": "Python 3 (ipykernel)",
   "language": "python",
   "name": "python3"
  },
  "language_info": {
   "codemirror_mode": {
    "name": "ipython",
    "version": 3
   },
   "file_extension": ".py",
   "mimetype": "text/x-python",
   "name": "python",
   "nbconvert_exporter": "python",
   "pygments_lexer": "ipython3",
   "version": "3.7.9"
  }
 },
 "nbformat": 4,
 "nbformat_minor": 1
}
