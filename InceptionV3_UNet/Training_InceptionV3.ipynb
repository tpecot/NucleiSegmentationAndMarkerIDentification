{
 "cells": [
  {
   "cell_type": "markdown",
   "metadata": {},
   "source": [
    "## Training with Inception-V3\n",
    "\n",
    "The first step is to load the modules we need."
   ]
  },
  {
   "cell_type": "code",
   "execution_count": 1,
   "metadata": {},
   "outputs": [
    {
     "name": "stderr",
     "output_type": "stream",
     "text": [
      "Using TensorFlow backend.\n"
     ]
    }
   ],
   "source": [
    "import tensorflow as tf\n",
    "from tensorflow import keras\n",
    "from keras.optimizers import SGD, RMSprop\n",
    "\n",
    "from utils import rate_scheduler, train_model_sample, train_model_sample_unet\n",
    "from models import inceptionV3 as inceptionV3\n",
    "\n",
    "import os\n",
    "import datetime\n",
    "import numpy as np"
   ]
  },
  {
   "cell_type": "markdown",
   "metadata": {},
   "source": [
    "## Nuclei segmentation\n",
    "\n",
    "We define the training datasets we want to use to train the classifier."
   ]
  },
  {
   "cell_type": "code",
   "execution_count": 2,
   "metadata": {},
   "outputs": [],
   "source": [
    "dataset00= \"nuclei_CF_IncV3\"\n",
    "dataset01= \"nuclei_WF_IncV3\"\n",
    "dataset02= \"nuclei_CFWF_IncV3\"\n",
    "\n",
    "direc_save = \"./trained_classifiers/nucleiSegmentation/\"\n",
    "direc_data = \"./trainingDataNpz/nucleiSegmentation/\""
   ]
  },
  {
   "cell_type": "markdown",
   "metadata": {},
   "source": [
    "We define the global parameters used for training the classifier: <br>\n",
    "    1) the imaging field dimensions (imaging_field_x and imaging_field_y) <br>\n",
    "    2) the number of channels <br>\n",
    "    3) the number of classes <br>\n",
    "    4) the number of image patches trained at once (batch_size) <br>\n",
    "    5) the number of epochs <br> <br>\n",
    "We also set up the optimizer that will be used for training."
   ]
  },
  {
   "cell_type": "code",
   "execution_count": 3,
   "metadata": {},
   "outputs": [],
   "source": [
    "# parameters\n",
    "imaging_field_x = 65\n",
    "imaging_field_y = 65\n",
    "nb_channels = 1\n",
    "nb_classes = 3\n",
    "batch_size = 256\n",
    "nb_epochs = 15\n",
    "\n",
    "# optimizer\n",
    "optimizer = SGD(lr = 0.01, decay = 1e-7, momentum = 0.9, nesterov = True)\n",
    "lr_sched = rate_scheduler(lr = 0.01, decay = 0.99)"
   ]
  },
  {
   "cell_type": "markdown",
   "metadata": {},
   "source": [
    "We define the model and train it."
   ]
  },
  {
   "cell_type": "code",
   "execution_count": null,
   "metadata": {},
   "outputs": [],
   "source": [
    "# Confocal and Wide-field\n",
    "model = inceptionV3(n_channels = nb_channels, n_features = nb_classes, dimx = imaging_field_x, dimy = imaging_field_y)\n",
    "\n",
    "expt = \"InceptionV3\"\n",
    "train_model_sample(model = model, dataset = dataset02, optimizer = optimizer, \n",
    "\texpt = expt, batch_size = batch_size, n_epoch = nb_epochs,\n",
    "\tdirec_save = direc_save, \n",
    "\tdirec_data = direc_data, \n",
    "\tlr_sched = lr_sched)\n",
    "\n",
    "del model"
   ]
  },
  {
   "cell_type": "code",
   "execution_count": null,
   "metadata": {},
   "outputs": [],
   "source": [
    "# Wide-field\n",
    "model = inceptionV3(n_channels = nb_channels, n_features = nb_classes, dimx = imaging_field_x, dimy = imaging_field_y)\n",
    "\n",
    "expt = \"InceptionV3\"\n",
    "train_model_sample(model = model, dataset = dataset01, optimizer = optimizer, \n",
    "\texpt = expt, batch_size = batch_size, n_epoch = nb_epochs,\n",
    "\tdirec_save = direc_save, \n",
    "\tdirec_data = direc_data, \n",
    "\tlr_sched = lr_sched)\n",
    "\n",
    "del model"
   ]
  },
  {
   "cell_type": "code",
   "execution_count": null,
   "metadata": {},
   "outputs": [],
   "source": [
    "# Confocal and Wide-field\n",
    "model = inceptionV3(n_channels = nb_channels, n_features = nb_classes, dimx = imaging_field_x, dimy = imaging_field_y)\n",
    "\n",
    "expt = \"InceptionV3\"\n",
    "train_model_sample(model = model, dataset = dataset02, optimizer = optimizer, \n",
    "\texpt = expt, batch_size = batch_size, n_epoch = nb_epochs,\n",
    "\tdirec_save = direc_save, \n",
    "\tdirec_data = direc_data, \n",
    "\tlr_sched = lr_sched)\n",
    "\n",
    "del model"
   ]
  },
  {
   "cell_type": "markdown",
   "metadata": {},
   "source": [
    "## Marker identification\n",
    "Confocal images"
   ]
  },
  {
   "cell_type": "code",
   "execution_count": 2,
   "metadata": {},
   "outputs": [],
   "source": [
    "dataset10= \"nucleiMarkers_E2F3A\"\n",
    "dataset11= \"nucleiMarkers_E2F8\"\n",
    "dataset12= \"nucleiMarkers_EdU\"\n",
    "dataset13= \"nucleiMarkers_pH3\"\n",
    "\n",
    "direc_save = \"./trainedClassifiers/markerIdentification/\"\n",
    "direc_data = \"./trainingDataNpz/markerIdentification/Confocal/\""
   ]
  },
  {
   "cell_type": "code",
   "execution_count": 3,
   "metadata": {},
   "outputs": [],
   "source": [
    "# parameters\n",
    "imaging_field_x = 65\n",
    "imaging_field_y = 65\n",
    "nb_channels = 1\n",
    "batch_size = 256\n",
    "nb_epochs = 15\n",
    "\n",
    "# optimizer\n",
    "optimizer = SGD(lr = 0.01, decay = 1e-7, momentum = 0.9, nesterov = True)\n",
    "lr_sched = rate_scheduler(lr = 0.01, decay = 0.99)"
   ]
  },
  {
   "cell_type": "code",
   "execution_count": null,
   "metadata": {},
   "outputs": [],
   "source": [
    "# E2F3A\n",
    "nb_classes = 2\n",
    "model = inceptionV3(n_channels = nb_channels, n_features = nb_classes, dimx = imaging_field_x, dimy = imaging_field_y)\n",
    "\n",
    "expt = \"InceptionV3_CF\"\n",
    "train_model_sample(model = model, dataset = dataset10, optimizer = optimizer, \n",
    "\texpt = expt, batch_size = batch_size, n_epoch = nb_epochs,\n",
    "\tdirec_save = direc_save, \n",
    "\tdirec_data = direc_data, \n",
    "\tlr_sched = lr_sched)\n",
    "\n",
    "del model\n",
    "\n",
    "# E2F8\n",
    "nb_classes = 2\n",
    "model = inceptionV3(n_channels = nb_channels, n_features = nb_classes, dimx = imaging_field_x, dimy = imaging_field_y)\n",
    "\n",
    "expt = \"InceptionV3_CF\"\n",
    "train_model_sample(model = model, dataset = dataset11, optimizer = optimizer, \n",
    "\texpt = expt, batch_size = batch_size, n_epoch = nb_epochs,\n",
    "\tdirec_save = direc_save, \n",
    "\tdirec_data = direc_data, \n",
    "\tlr_sched = lr_sched)\n",
    "\n",
    "del model\n",
    "\n",
    "# EdU\n",
    "nb_classes = 3\n",
    "model = inceptionV3(n_channels = nb_channels, n_features = nb_classes, dimx = imaging_field_x, dimy = imaging_field_y)\n",
    "\n",
    "expt = \"InceptionV3_CF\"\n",
    "train_model_sample(model = model, dataset = dataset12, optimizer = optimizer, \n",
    "\texpt = expt, batch_size = batch_size, n_epoch = nb_epochs,\n",
    "\tdirec_save = direc_save, \n",
    "\tdirec_data = direc_data, \n",
    "\tlr_sched = lr_sched)\n",
    "\n",
    "del model\n",
    "\n",
    "# pH3\n",
    "nb_classes = 3\n",
    "model = inceptionV3(n_channels = nb_channels, n_features = nb_classes, dimx = imaging_field_x, dimy = imaging_field_y)\n",
    "\n",
    "expt = \"InceptionV3_CF\"\n",
    "train_model_sample(model = model, dataset = dataset13, optimizer = optimizer, \n",
    "\texpt = expt, batch_size = batch_size, n_epoch = nb_epochs,\n",
    "\tdirec_save = direc_save, \n",
    "\tdirec_data = direc_data, \n",
    "\tlr_sched = lr_sched)\n",
    "\n",
    "del model"
   ]
  },
  {
   "cell_type": "markdown",
   "metadata": {},
   "source": [
    "Widefield images"
   ]
  },
  {
   "cell_type": "code",
   "execution_count": 5,
   "metadata": {},
   "outputs": [],
   "source": [
    "dataset20= \"nucleiMarkers_E2F3A\"\n",
    "dataset21= \"nucleiMarkers_E2F8\"\n",
    "dataset22= \"nucleiMarkers_E2F4\"\n",
    "dataset23= \"nucleiMarkers_EdU\"\n",
    "dataset24= \"nucleiMarkers_pH3\"\n",
    "\n",
    "direc_save = \"./trained_classifiers/markerIdentification/\"\n",
    "direc_data = \"./trainingDataNpz/markerIdentification/Widefield/\""
   ]
  },
  {
   "cell_type": "code",
   "execution_count": null,
   "metadata": {},
   "outputs": [],
   "source": [
    "# E2F3A\n",
    "nb_classes = 2\n",
    "model = inceptionV3(n_channels = nb_channels, n_features = nb_classes, dimx = imaging_field_x, dimy = imaging_field_y)\n",
    "\n",
    "expt = \"InceptionV3_WF\"\n",
    "train_model_sample(model = model, dataset = dataset20, optimizer = optimizer, \n",
    "\texpt = expt, batch_size = batch_size, n_epoch = nb_epochs,\n",
    "\tdirec_save = direc_save, \n",
    "\tdirec_data = direc_data, \n",
    "\tlr_sched = lr_sched)\n",
    "\n",
    "del model\n",
    "\n",
    "# E2F8\n",
    "nb_classes = 2\n",
    "model = inceptionV3(n_channels = nb_channels, n_features = nb_classes, dimx = imaging_field_x, dimy = imaging_field_y)\n",
    "\n",
    "expt = \"InceptionV3_WF\"\n",
    "train_model_sample(model = model, dataset = dataset21, optimizer = optimizer, \n",
    "\texpt = expt, batch_size = batch_size, n_epoch = nb_epochs,\n",
    "\tdirec_save = direc_save, \n",
    "\tdirec_data = direc_data, \n",
    "\tlr_sched = lr_sched)\n",
    "\n",
    "del model\n",
    "\n",
    "# E2F4\n",
    "nb_classes = 2\n",
    "model = inceptionV3(n_channels = nb_channels, n_features = nb_classes, dimx = imaging_field_x, dimy = imaging_field_y)\n",
    "\n",
    "expt = \"InceptionV3_WF\"\n",
    "train_model_sample(model = model, dataset = dataset22, optimizer = optimizer, \n",
    "\texpt = expt, batch_size = batch_size, n_epoch = nb_epochs,\n",
    "\tdirec_save = direc_save, \n",
    "\tdirec_data = direc_data, \n",
    "\tlr_sched = lr_sched)\n",
    "\n",
    "del model\n",
    "\n",
    "# EdU\n",
    "nb_classes = 3\n",
    "model = inceptionV3(n_channels = nb_channels, n_features = nb_classes, dimx = imaging_field_x, dimy = imaging_field_y)\n",
    "\n",
    "expt = \"InceptionV3_WF\"\n",
    "train_model_sample(model = model, dataset = dataset23, optimizer = optimizer, \n",
    "\texpt = expt, batch_size = batch_size, n_epoch = nb_epochs,\n",
    "\tdirec_save = direc_save, \n",
    "\tdirec_data = direc_data, \n",
    "\tlr_sched = lr_sched)\n",
    "\n",
    "del model\n",
    "\n",
    "# pH3\n",
    "nb_classes = 3\n",
    "model = inceptionV3(n_channels = nb_channels, n_features = nb_classes, dimx = imaging_field_x, dimy = imaging_field_y)\n",
    "\n",
    "expt = \"InceptionV3_WF\"\n",
    "train_model_sample(model = model, dataset = dataset24, optimizer = optimizer, \n",
    "\texpt = expt, batch_size = batch_size, n_epoch = nb_epochs,\n",
    "\tdirec_save = direc_save, \n",
    "\tdirec_data = direc_data, \n",
    "\tlr_sched = lr_sched)\n",
    "\n",
    "del model"
   ]
  }
 ],
 "metadata": {
  "kernelspec": {
   "display_name": "Python (DLenv)",
   "language": "python",
   "name": "dlenv"
  },
  "language_info": {
   "codemirror_mode": {
    "name": "ipython",
    "version": 3
   },
   "file_extension": ".py",
   "mimetype": "text/x-python",
   "name": "python",
   "nbconvert_exporter": "python",
   "pygments_lexer": "ipython3",
   "version": "3.6.7"
  }
 },
 "nbformat": 4,
 "nbformat_minor": 1
}
