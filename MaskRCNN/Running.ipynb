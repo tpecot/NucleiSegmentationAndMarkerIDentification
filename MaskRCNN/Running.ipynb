{
 "cells": [
  {
   "cell_type": "markdown",
   "metadata": {},
   "source": [
    "## Running\n",
    "\n",
    "The first step is to load the modules we need."
   ]
  },
  {
   "cell_type": "code",
   "execution_count": 1,
   "metadata": {},
   "outputs": [
    {
     "name": "stderr",
     "output_type": "stream",
     "text": [
      "Using TensorFlow backend.\n"
     ]
    }
   ],
   "source": [
    "import tensorflow\n",
    "\n",
    "import sys\n",
    "sys.path.append(\"Mask_RCNN-2.1\")\n",
    "import json\n",
    "import os\n",
    "import os.path\n",
    "import numpy\n",
    "import skimage\n",
    "import mrcnn_model\n",
    "import visualize\n",
    "import mrcnn_utils\n",
    "sys.path.append(\"biomagdsb\")\n",
    "import mask_rcnn_additional\n",
    "import kutils\n",
    "import additional_segmentation"
   ]
  },
  {
   "cell_type": "markdown",
   "metadata": {},
   "source": [
    "We define the parameters for segmentation and tell where the trained classifier to be used is. Then we define: <br>\n",
    "    1) the path to images to be segmented <br>\n",
    "    2) the path to the segmented images <br>\n",
    "    3) if we want to visualize the results in the notebook <br> <br>\n",
    "Finally, we segment the images."
   ]
  },
  {
   "cell_type": "code",
   "execution_count": null,
   "metadata": {},
   "outputs": [],
   "source": [
    "# classifier initialization\n",
    "confidence = 0.5\n",
    "nmsThresh = 0.35\n",
    "maxDetNum = 2000\n",
    "\n",
    "modelPath = \"trainedClassifiers/nucleiSegmentation_E2Fs/mask_rcnn_TLcoco_CFWF.h5\"\n",
    "method = additional_segmentation.Segmentation(pModelPath=modelPath, pConfidence=confidence, pNMSThreshold=nmsThresh, pMaxDetNum=maxDetNum)\n",
    "\n",
    "# segmentation\n",
    "imagesDir = \"./datasets/nucleiSegmentation_E2Fs/test/\"\n",
    "outputDir = \"./results/nucleiSegmentation_E2Fs/\"\n",
    "os.makedirs(name=outputDir, exist_ok=True)\n",
    "showOutputs = True\n",
    "\n",
    "method.Run(imagesDir, outputDir, showOutputs)"
   ]
  }
 ],
 "metadata": {
  "kernelspec": {
   "display_name": "Python 3",
   "language": "python",
   "name": "python3"
  },
  "language_info": {
   "codemirror_mode": {
    "name": "ipython",
    "version": 3
   },
   "file_extension": ".py",
   "mimetype": "text/x-python",
   "name": "python",
   "nbconvert_exporter": "python",
   "pygments_lexer": "ipython3",
   "version": "3.6.7"
  }
 },
 "nbformat": 4,
 "nbformat_minor": 1
}
